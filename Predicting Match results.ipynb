{
 "cells": [
  {
   "cell_type": "markdown",
   "metadata": {},
   "source": [
    "# Predicting the Football match results\n",
    "\n",
    "We have the data of **SERIE A** matches and the odds of winning to draw to losing for each match. We need to predict the match results from this historical data.\n",
    "\n",
    "## Problem and To DO\n",
    "\n",
    "* All the \"Serie A\" football matches of the last 8 years are provided. Your goal is to predict the final result, having at your disposal the odds of various bookmakers.\n",
    "\n",
    "* The use of external sources is encouraged, with some recommendation. Of course, the actual results of these matches can be easily downloaded from the web. However, this competition it is intended to be for fun and learning and therefore the names of the teams are given.\n",
    "\n",
    "* The train and the test set was splitted non randomly. Your are asked to predict the last 2 years.\n",
    "\n",
    "## Data\n",
    "\n",
    ">File descriptions\n",
    " \n",
    "* train.csv - the training set\n",
    "* test.csv - the test set\n",
    "* submission_example.csv - a sample submission file in the correct format\n",
    "\n",
    "## Evaluate\n",
    "\n",
    "The evaluation is based on whether we can predict the results of a match given the historical data.\n",
    "\n",
    "## Features\n",
    "\n",
    "### Data fields\n",
    "ID = An anonymous ID unique to a given match\n",
    "\n",
    "Date = Date of the match\n",
    "\n",
    "FTR = Full Time Result (H=Home Win, D=Draw, A=Away Win). This is the target variable\n",
    "\n",
    "HomeTeam = Home Team\n",
    "\n",
    "AwayTeam = Away Team\n",
    "\n",
    "B365H = Bet365 home win odds, B365D = Bet365 draw odds, B365A = Bet365 away win odds\n",
    "\n",
    "BWH = Bet&Win home win odds, BWD = Bet&Win draw odds, BWA = Bet&Win away win odds\n",
    "\n",
    "IWH = Interwetten home win odds, IWD = Interwetten draw odds, IWA = Interwetten away win odds\n",
    "\n",
    "LBH = Ladbrokes home win odds, LBD = Ladbrokes draw odds,LBA = Ladbrokes away win odds\n",
    "\n",
    "VCH = VC Bet home win odds, VCD = VC Bet draw odds,VCA = VC Bet away win odds\n",
    "\n",
    "WHH = William Hill home win odds,WHD = William Hill draw odds,WHA = William Hill away win odds"
   ]
  },
  {
   "cell_type": "markdown",
   "metadata": {},
   "source": [
    "# Section: Imports\n",
    "\n",
    "Dump all imports here!!!"
   ]
  },
  {
   "cell_type": "code",
   "execution_count": 73,
   "metadata": {},
   "outputs": [],
   "source": [
    "# Mand. imports\n",
    "import numpy as np\n",
    "import pandas as pd\n",
    "import matplotlib.pyplot as plt\n",
    "\n",
    "# Other imports\n",
    "from sklearn.model_selection import train_test_split, cross_val_score\n",
    "from sklearn.model_selection import RandomizedSearchCV, GridSearchCV\n",
    "from sklearn.ensemble import RandomForestClassifier\n",
    "from sklearn.metrics import confusion_matrix, roc_curve, classification_report\n",
    "\n",
    "np.random.seed(42)"
   ]
  },
  {
   "cell_type": "markdown",
   "metadata": {},
   "source": [
    "# Lets check out our data\n",
    "We need to:\n",
    "* Split data into train, valid\n",
    "* Work on train"
   ]
  },
  {
   "cell_type": "code",
   "execution_count": 2,
   "metadata": {},
   "outputs": [],
   "source": [
    "# Read csv\n",
    "football_df = pd.read_csv(\"data/train.csv\")\n",
    "football_df = football_df.sample(frac=1).reset_index(drop=True)\n",
    "\n",
    "# Creating feature set and label set\n",
    "X = football_df.drop('FTR', axis=1)\n",
    "y = football_df['FTR']\n",
    "\n",
    "# [X.shape,y.shape]\n",
    "\n",
    "# Splitting data to train and test data\n",
    "X_train, X_valid, y_train, y_valid = train_test_split(X, y, test_size=0.3)"
   ]
  },
  {
   "cell_type": "markdown",
   "metadata": {},
   "source": [
    "# Lets do some EDA now\n",
    "\n",
    "We can check for the following things:\n",
    "* We would require only the `Year` from the datetime column as the results will vary based on the year. ✔\n",
    "* We can fill the missing data in the `win, draw, lose ODDS` by taking a mean from other columns where `win, draw, lose ODDS` is present\n",
    "* We can convert the team name to numerical values based on the team strength over the years: (`1` being `high tier` and `20` being `low tier`)\n",
    "    * To convert team name to numerical value.. First we need to find the team rank. Rank 1- highest, rank 27-lowest\n",
    "    * Check team_ranking dataframe for the ranks of the teams"
   ]
  },
  {
   "cell_type": "code",
   "execution_count": 3,
   "metadata": {},
   "outputs": [
    {
     "data": {
      "text/plain": [
       "Index(['ID', 'Date', 'HomeTeam', 'AwayTeam', 'B365H', 'B365D', 'B365A', 'BWH',\n",
       "       'BWD', 'BWA', 'IWH', 'IWD', 'IWA', 'LBH', 'LBD', 'LBA', 'WHH', 'WHD',\n",
       "       'WHA', 'VCH', 'VCD', 'VCA'],\n",
       "      dtype='object')"
      ]
     },
     "execution_count": 3,
     "metadata": {},
     "output_type": "execute_result"
    }
   ],
   "source": [
    "X_train.columns"
   ]
  },
  {
   "cell_type": "markdown",
   "metadata": {},
   "source": [
    "## Step 1: Converting Date to only year\n",
    "* 1. We would require only the Year from the datetime column as the results will vary based on the year."
   ]
  },
  {
   "cell_type": "code",
   "execution_count": 4,
   "metadata": {},
   "outputs": [],
   "source": [
    "def convert_date_to_year(df):\n",
    "    \"\"\"\n",
    "    Fn to extract the year from the date.\n",
    "    df : pandas.DataFrame\n",
    "    \"\"\"\n",
    "    df = df.copy()\n",
    "    df['Year'] = pd.to_datetime(df.Date).dt.year\n",
    "    df = df.drop('Date', axis=1)\n",
    "    \n",
    "    return df"
   ]
  },
  {
   "cell_type": "code",
   "execution_count": 5,
   "metadata": {},
   "outputs": [],
   "source": [
    "# 3. We can convert the team name to numerical values based on the team strength over the years."
   ]
  },
  {
   "cell_type": "code",
   "execution_count": 6,
   "metadata": {},
   "outputs": [
    {
     "data": {
      "image/png": "[encoded data removed]",
      "text/plain": [
       "<Figure size 432x288 with 1 Axes>"
      ]
     },
     "metadata": {
      "needs_background": "light"
     },
     "output_type": "display_data"
    }
   ],
   "source": [
    "X_train[\"AwayTeam\"].value_counts().plot.bar();"
   ]
  },
  {
   "cell_type": "code",
   "execution_count": 7,
   "metadata": {},
   "outputs": [
    {
     "data": {
      "image/png": "[encoded data removed]",
      "text/plain": [
       "<Figure size 432x288 with 1 Axes>"
      ]
     },
     "metadata": {
      "needs_background": "light"
     },
     "output_type": "display_data"
    }
   ],
   "source": [
    "X_train[\"HomeTeam\"].value_counts().plot.bar();"
   ]
  },
  {
   "cell_type": "code",
   "execution_count": 8,
   "metadata": {},
   "outputs": [
    {
     "data": {
      "image/png": "[encoded data removed]",
      "text/plain": [
       "<Figure size 720x720 with 1 Axes>"
      ]
     },
     "metadata": {
      "needs_background": "light"
     },
     "output_type": "display_data"
    },
    {
     "data": {
      "image/png": "[encoded data removed]",
      "text/plain": [
       "<Figure size 720x720 with 1 Axes>"
      ]
     },
     "metadata": {
      "needs_background": "light"
     },
     "output_type": "display_data"
    }
   ],
   "source": [
    "pd.crosstab(football_df[\"HomeTeam\"], football_df[\"FTR\"]).plot.bar(figsize=(10,10));\n",
    "pd.crosstab(football_df[\"AwayTeam\"], football_df[\"FTR\"]).plot.bar(figsize=(10,10));"
   ]
  },
  {
   "cell_type": "code",
   "execution_count": 9,
   "metadata": {},
   "outputs": [
    {
     "data": {
      "image/png": "[encoded data removed]",
      "text/plain": [
       "<Figure size 720x720 with 1 Axes>"
      ]
     },
     "metadata": {
      "needs_background": "light"
     },
     "output_type": "display_data"
    },
    {
     "data": {
      "image/png": "[encoded data removed]",
      "text/plain": [
       "<Figure size 720x720 with 1 Axes>"
      ]
     },
     "metadata": {
      "needs_background": "light"
     },
     "output_type": "display_data"
    }
   ],
   "source": [
    "pd.crosstab(football_df[\"HomeTeam\"], football_df[\"FTR\"]).sort_values(\"H\", ascending=False).plot.bar(figsize=(10,10));\n",
    "pd.crosstab(football_df[\"AwayTeam\"], football_df[\"FTR\"]).sort_values(\"A\", ascending=False).plot.bar(figsize=(10,10));"
   ]
  },
  {
   "cell_type": "markdown",
   "metadata": {},
   "source": [
    "## Step 3: Label encoding (Custom)\n",
    "## Now we will use the ranks as a label encoder for our dataset\n",
    "* We can work with training data since we have the ranks inplace"
   ]
  },
  {
   "cell_type": "code",
   "execution_count": 155,
   "metadata": {},
   "outputs": [],
   "source": [
    "# Lets get the unique clubs from our dataset\n",
    "unique_teams = pd.unique(football_df[\"HomeTeam\"])\n",
    "unique_teams = np.append(unique_teams,'Empoli')\n",
    "unique_teams = np.append(unique_teams,'Frosinone')\n",
    "unique_teams = np.append(unique_teams,'Carpi')"
   ]
  },
  {
   "cell_type": "code",
   "execution_count": 156,
   "metadata": {},
   "outputs": [],
   "source": [
    "def team_wins_draws(team):\n",
    "    \"\"\"\n",
    "    Function to calculate the totals points based on total points based on wins+draws.\n",
    "    A win is considered to be '3' points\n",
    "    A draw is considered to be '1' point\n",
    "    \n",
    "    Parameter: \n",
    "    ==========\n",
    "    team - Specify the team name\n",
    "    \n",
    "    Return:\n",
    "    =======\n",
    "    Count - Total points secured by the team\n",
    "    --------------------------------------------\n",
    "    \"\"\"\n",
    "    # Home wins count\n",
    "    count=football_df[((football_df.HomeTeam)==team) & ((football_df.FTR)==\"H\")].HomeTeam.value_counts()\n",
    "    # Away wins count\n",
    "    count+=football_df[((football_df.AwayTeam)==team) & ((football_df.FTR)==\"A\")].AwayTeam.value_counts()\n",
    "    # Total points through wins\n",
    "    count*=3\n",
    "    # Total draws\n",
    "    count+=football_df[((football_df.HomeTeam)==team) & ((football_df.FTR)==\"D\")].HomeTeam.value_counts()\n",
    "    count+=football_df[((football_df.AwayTeam)==team) & ((football_df.FTR)==\"D\")].AwayTeam.value_counts()\n",
    "    return count[0]"
   ]
  },
  {
   "cell_type": "code",
   "execution_count": 157,
   "metadata": {},
   "outputs": [],
   "source": [
    "def total_poss_points(team):\n",
    "    \"\"\"\n",
    "    Function to calculate the totals possible points for a team by winning ofcourse.\n",
    "    A win is considered to be 3 points.\n",
    "    \n",
    "    Parameter: \n",
    "    ==========\n",
    "    team - Specify the team name\n",
    "    \n",
    "    Return:\n",
    "    =======\n",
    "    Count - Total points possible by the team\n",
    "    ----------------------------------------------\n",
    "    \"\"\"\n",
    "    count=football_df[football_df[\"HomeTeam\"]==team].HomeTeam.value_counts()\n",
    "    count+=count\n",
    "    count*=3\n",
    "    return count[0] if count.size > 0 else 0"
   ]
  },
  {
   "cell_type": "code",
   "execution_count": 158,
   "metadata": {},
   "outputs": [],
   "source": [
    "# Getting the home wins, away wins, draws for each team\n",
    "teamWins_dict={}\n",
    "for team in unique_teams:\n",
    "    poss_points = total_poss_points(team)\n",
    "    if poss_points > 0:\n",
    "        teamWins_dict[team] = format(team_wins_draws(team)/poss_points,\".3f\")\n",
    "    else:\n",
    "        teamWins_dict[team] = format(0,\".3f\")\n",
    "# Refining the Dictionary\n",
    "data = {\"team\": list(teamWins_dict.keys()),\n",
    "        \"teamPerc\": list(teamWins_dict.values())}"
   ]
  },
  {
   "cell_type": "code",
   "execution_count": 159,
   "metadata": {},
   "outputs": [
    {
     "data": {
      "text/html": [
       "<div>\n",
       "<style scoped>\n",
       "    .dataframe tbody tr th:only-of-type {\n",
       "        vertical-align: middle;\n",
       "    }\n",
       "\n",
       "    .dataframe tbody tr th {\n",
       "        vertical-align: top;\n",
       "    }\n",
       "\n",
       "    .dataframe thead th {\n",
       "        text-align: right;\n",
       "    }\n",
       "</style>\n",
       "<table border=\"1\" class=\"dataframe\">\n",
       "  <thead>\n",
       "    <tr style=\"text-align: right;\">\n",
       "      <th></th>\n",
       "      <th>team</th>\n",
       "      <th>teamPerc</th>\n",
       "      <th>Rank</th>\n",
       "    </tr>\n",
       "  </thead>\n",
       "  <tbody>\n",
       "    <tr>\n",
       "      <th>0</th>\n",
       "      <td>Inter</td>\n",
       "      <td>0.662</td>\n",
       "      <td>1</td>\n",
       "    </tr>\n",
       "    <tr>\n",
       "      <th>1</th>\n",
       "      <td>Roma</td>\n",
       "      <td>0.638</td>\n",
       "      <td>2</td>\n",
       "    </tr>\n",
       "    <tr>\n",
       "      <th>2</th>\n",
       "      <td>Juventus</td>\n",
       "      <td>0.634</td>\n",
       "      <td>3</td>\n",
       "    </tr>\n",
       "    <tr>\n",
       "      <th>3</th>\n",
       "      <td>Milan</td>\n",
       "      <td>0.621</td>\n",
       "      <td>4</td>\n",
       "    </tr>\n",
       "    <tr>\n",
       "      <th>4</th>\n",
       "      <td>Napoli</td>\n",
       "      <td>0.555</td>\n",
       "      <td>5</td>\n",
       "    </tr>\n",
       "    <tr>\n",
       "      <th>5</th>\n",
       "      <td>Palermo</td>\n",
       "      <td>0.520</td>\n",
       "      <td>6</td>\n",
       "    </tr>\n",
       "    <tr>\n",
       "      <th>6</th>\n",
       "      <td>Fiorentina</td>\n",
       "      <td>0.507</td>\n",
       "      <td>7</td>\n",
       "    </tr>\n",
       "    <tr>\n",
       "      <th>7</th>\n",
       "      <td>Lazio</td>\n",
       "      <td>0.478</td>\n",
       "      <td>8</td>\n",
       "    </tr>\n",
       "    <tr>\n",
       "      <th>8</th>\n",
       "      <td>Verona</td>\n",
       "      <td>0.474</td>\n",
       "      <td>9</td>\n",
       "    </tr>\n",
       "    <tr>\n",
       "      <th>9</th>\n",
       "      <td>Genoa</td>\n",
       "      <td>0.469</td>\n",
       "      <td>10</td>\n",
       "    </tr>\n",
       "    <tr>\n",
       "      <th>10</th>\n",
       "      <td>Udinese</td>\n",
       "      <td>0.465</td>\n",
       "      <td>11</td>\n",
       "    </tr>\n",
       "    <tr>\n",
       "      <th>11</th>\n",
       "      <td>Parma</td>\n",
       "      <td>0.456</td>\n",
       "      <td>12</td>\n",
       "    </tr>\n",
       "    <tr>\n",
       "      <th>12</th>\n",
       "      <td>Sampdoria</td>\n",
       "      <td>0.425</td>\n",
       "      <td>13</td>\n",
       "    </tr>\n",
       "    <tr>\n",
       "      <th>13</th>\n",
       "      <td>Torino</td>\n",
       "      <td>0.399</td>\n",
       "      <td>14</td>\n",
       "    </tr>\n",
       "    <tr>\n",
       "      <th>14</th>\n",
       "      <td>Cagliari</td>\n",
       "      <td>0.397</td>\n",
       "      <td>15</td>\n",
       "    </tr>\n",
       "    <tr>\n",
       "      <th>15</th>\n",
       "      <td>Atalanta</td>\n",
       "      <td>0.386</td>\n",
       "      <td>16</td>\n",
       "    </tr>\n",
       "    <tr>\n",
       "      <th>16</th>\n",
       "      <td>Cesena</td>\n",
       "      <td>0.377</td>\n",
       "      <td>17</td>\n",
       "    </tr>\n",
       "    <tr>\n",
       "      <th>17</th>\n",
       "      <td>Catania</td>\n",
       "      <td>0.364</td>\n",
       "      <td>18</td>\n",
       "    </tr>\n",
       "    <tr>\n",
       "      <th>18</th>\n",
       "      <td>Chievo</td>\n",
       "      <td>0.360</td>\n",
       "      <td>19</td>\n",
       "    </tr>\n",
       "    <tr>\n",
       "      <th>19</th>\n",
       "      <td>Bologna</td>\n",
       "      <td>0.336</td>\n",
       "      <td>20</td>\n",
       "    </tr>\n",
       "    <tr>\n",
       "      <th>20</th>\n",
       "      <td>Siena</td>\n",
       "      <td>0.329</td>\n",
       "      <td>21</td>\n",
       "    </tr>\n",
       "    <tr>\n",
       "      <th>21</th>\n",
       "      <td>Bari</td>\n",
       "      <td>0.325</td>\n",
       "      <td>22</td>\n",
       "    </tr>\n",
       "    <tr>\n",
       "      <th>22</th>\n",
       "      <td>Lecce</td>\n",
       "      <td>0.311</td>\n",
       "      <td>23</td>\n",
       "    </tr>\n",
       "    <tr>\n",
       "      <th>23</th>\n",
       "      <td>Sassuolo</td>\n",
       "      <td>0.298</td>\n",
       "      <td>24</td>\n",
       "    </tr>\n",
       "    <tr>\n",
       "      <th>24</th>\n",
       "      <td>Brescia</td>\n",
       "      <td>0.281</td>\n",
       "      <td>25</td>\n",
       "    </tr>\n",
       "    <tr>\n",
       "      <th>25</th>\n",
       "      <td>Reggina</td>\n",
       "      <td>0.272</td>\n",
       "      <td>26</td>\n",
       "    </tr>\n",
       "    <tr>\n",
       "      <th>26</th>\n",
       "      <td>Livorno</td>\n",
       "      <td>0.237</td>\n",
       "      <td>27</td>\n",
       "    </tr>\n",
       "    <tr>\n",
       "      <th>27</th>\n",
       "      <td>Empoli</td>\n",
       "      <td>0.000</td>\n",
       "      <td>28</td>\n",
       "    </tr>\n",
       "    <tr>\n",
       "      <th>28</th>\n",
       "      <td>Frosinone</td>\n",
       "      <td>0.000</td>\n",
       "      <td>29</td>\n",
       "    </tr>\n",
       "    <tr>\n",
       "      <th>29</th>\n",
       "      <td>Carpi</td>\n",
       "      <td>0.000</td>\n",
       "      <td>30</td>\n",
       "    </tr>\n",
       "  </tbody>\n",
       "</table>\n",
       "</div>"
      ],
      "text/plain": [
       "          team teamPerc  Rank\n",
       "0        Inter    0.662     1\n",
       "1         Roma    0.638     2\n",
       "2     Juventus    0.634     3\n",
       "3        Milan    0.621     4\n",
       "4       Napoli    0.555     5\n",
       "5      Palermo    0.520     6\n",
       "6   Fiorentina    0.507     7\n",
       "7        Lazio    0.478     8\n",
       "8       Verona    0.474     9\n",
       "9        Genoa    0.469    10\n",
       "10     Udinese    0.465    11\n",
       "11       Parma    0.456    12\n",
       "12   Sampdoria    0.425    13\n",
       "13      Torino    0.399    14\n",
       "14    Cagliari    0.397    15\n",
       "15    Atalanta    0.386    16\n",
       "16      Cesena    0.377    17\n",
       "17     Catania    0.364    18\n",
       "18      Chievo    0.360    19\n",
       "19     Bologna    0.336    20\n",
       "20       Siena    0.329    21\n",
       "21        Bari    0.325    22\n",
       "22       Lecce    0.311    23\n",
       "23    Sassuolo    0.298    24\n",
       "24     Brescia    0.281    25\n",
       "25     Reggina    0.272    26\n",
       "26     Livorno    0.237    27\n",
       "27      Empoli    0.000    28\n",
       "28   Frosinone    0.000    29\n",
       "29       Carpi    0.000    30"
      ]
     },
     "execution_count": 159,
     "metadata": {},
     "output_type": "execute_result"
    }
   ],
   "source": [
    "# Now create Dataframe with the dictionary\n",
    "team_Ranking = pd.DataFrame(data)\n",
    "# Getting the team ranks\n",
    "team_Ranking.sort_values(\"teamPerc\", ascending=False, inplace=True)\n",
    "team_Ranking.reset_index(drop=True, inplace=True)\n",
    "team_Ranking[\"Rank\"]=team_Ranking.index+1\n",
    "team_Ranking"
   ]
  },
  {
   "cell_type": "code",
   "execution_count": 160,
   "metadata": {},
   "outputs": [],
   "source": [
    "def teamName_to_ranks(src_df):\n",
    "    \"\"\"\n",
    "    Function to convert the team names to numeical values.\n",
    "    \n",
    "    Parameters:\n",
    "    ===========\n",
    "    src_df - Dataframe where the conversion is needed.\n",
    "    \n",
    "    Return:\n",
    "    =======\n",
    "    new_df - Dataframe with team names converted to numerical values.\n",
    "    ----------------------------------------------------------------\n",
    "    \"\"\"\n",
    "    src_df = src_df.copy()\n",
    "    for team in unique_teams:\n",
    "        # Change in HomeTeam Column\n",
    "        if src_df.HomeTeam.isin([team]).any():\n",
    "            src_df[\"HomeTeam\"] = src_df[\"HomeTeam\"].str.replace(team,\n",
    "                                                        str(team_Ranking[(team_Ranking.team)==team].Rank.item()))\n",
    "        # Change in AwayTeam Column\n",
    "        if src_df.AwayTeam.isin([team]).any():\n",
    "            src_df[\"AwayTeam\"] = src_df[\"AwayTeam\"].str.replace(team,\n",
    "                                                        str(team_Ranking[(team_Ranking.team)==team].Rank.item()))\n",
    "    # Change the dataype values from Object to int\n",
    "    src_df[\"HomeTeam\"] = src_df[\"HomeTeam\"].astype(str).astype(\"int64\")\n",
    "    src_df[\"AwayTeam\"] = src_df[\"AwayTeam\"].astype(str).astype(\"int64\")\n",
    "    return src_df"
   ]
  },
  {
   "cell_type": "markdown",
   "metadata": {},
   "source": [
    "## Step 2: We need to fill the missing values of match predictions\n",
    "* Lets keep it simple for now and just fill with mean()\n",
    "* Filling it with mean of the other sites is the only logical way to go"
   ]
  },
  {
   "cell_type": "code",
   "execution_count": 16,
   "metadata": {},
   "outputs": [],
   "source": [
    "# create list of columns that are not required for Home, Away, Draw\n",
    "home = ['ID', 'HomeTeam', 'AwayTeam', 'B365D', 'B365A','BWD',\n",
    "        'BWA', 'IWD', 'IWA', 'LBD', 'LBA', 'WHD',\n",
    "        'WHA', 'VCD', 'VCA', 'Year']\n",
    "away = ['ID', 'HomeTeam', 'AwayTeam', 'B365H', 'B365D', 'BWH', 'BWD',\n",
    "       'IWH', 'IWD', 'LBH', 'LBD', 'WHH', 'WHD',\n",
    "       'VCH', 'VCD', 'Year']\n",
    "draw = ['ID', 'HomeTeam', 'AwayTeam', 'B365H', 'B365A', 'BWH',\n",
    "       'BWA', 'IWH', 'IWA', 'LBH', 'LBA', 'WHH', 'WHA',\n",
    "       'VCH', 'VCA', 'Year']"
   ]
  },
  {
   "cell_type": "code",
   "execution_count": 17,
   "metadata": {},
   "outputs": [],
   "source": [
    "def filling_missing_matchpredictions(df):\n",
    "    \"\"\"\n",
    "    Function to find the mean of the match predictions w.r.t the match.\n",
    "    \n",
    "    Parameter:\n",
    "    ==========\n",
    "    df - Source dataframe\n",
    "    \n",
    "    Returns:\n",
    "    ========\n",
    "    \n",
    "    df - Source dataframe with mean in missing value places\n",
    "    -------------------------------------------------------\n",
    "    \"\"\"\n",
    "    df=df.copy()\n",
    "    pd.options.display.float_format = '{:.2f}'.format\n",
    "    tmp=df[df.isna().any(axis=1)]\n",
    "    \n",
    "    # filling NA values for Home\n",
    "    home_mean=df[df.isna().any(axis=1)].drop(home,axis=1).apply(lambda x:x.mean(), axis=1)\n",
    "    home_mean.fillna(0, inplace=True)\n",
    "    home_cols =[col for col in df.columns if col not in home]\n",
    "    tmp=tmp.copy()\n",
    "    tmp[home_cols] = tmp[home_cols].T.fillna(home_mean).T\n",
    "    \n",
    "    # filling NA values for Away\n",
    "    away_mean=df[df.isna().any(axis=1)].drop(away,axis=1).apply(lambda x:x.mean(), axis=1)\n",
    "    away_mean.fillna(0, inplace=True)\n",
    "    away_cols =[col for col in df.columns if col not in away]\n",
    "    tmp=tmp.copy()\n",
    "    tmp[away_cols] = tmp[away_cols].T.fillna(away_mean).T  \n",
    "    \n",
    "    # filling NA values for Draw\n",
    "    draw_mean=df[df.isna().any(axis=1)].drop(draw,axis=1).apply(lambda x:x.mean(), axis=1)\n",
    "    draw_mean.fillna(0, inplace=True)\n",
    "    draw_cols =[col for col in df.columns if col not in draw]\n",
    "    tmp=tmp.copy()\n",
    "    tmp[draw_cols]=tmp[draw_cols].T.fillna(draw_mean).T\n",
    "    \n",
    "    # Copy the changes to main Dataframe\n",
    "    df[df.isna().any(axis=1)]=tmp\n",
    "    \n",
    "    return df"
   ]
  },
  {
   "cell_type": "code",
   "execution_count": 18,
   "metadata": {},
   "outputs": [],
   "source": [
    "X_train = convert_date_to_year(X_train)"
   ]
  },
  {
   "cell_type": "code",
   "execution_count": 19,
   "metadata": {},
   "outputs": [],
   "source": [
    "X_train = teamName_to_ranks(X_train)"
   ]
  },
  {
   "cell_type": "code",
   "execution_count": 20,
   "metadata": {},
   "outputs": [],
   "source": [
    "## Removing missing prediction values from Dataframe\n",
    "X_train_final = filling_missing_matchpredictions(X_train) "
   ]
  },
  {
   "cell_type": "markdown",
   "metadata": {},
   "source": [
    "## With this we are done with Preprocessing......\n",
    "### Lets start with modelling and prediction!\n",
    "> The following models need to be used for testing:\n",
    "\n",
    "    * DecisionTreeClassifier\n",
    "    * LinearSVC\n",
    "    * RandomForestClassifier\n",
    "    * AdaBoostClassifier\n",
    "    * ExtraTreesClassifier\n",
    "    * KNeighborsClassifier\n",
    "    * VotingClassifier\n",
    "    * GradientBoostingClassifier\n",
    "    \n",
    "But first lets check with our trusty RandomForestClassifier!!!!    "
   ]
  },
  {
   "cell_type": "code",
   "execution_count": 21,
   "metadata": {},
   "outputs": [],
   "source": [
    "# First preprocess the training dataset\n",
    "X_valid = convert_date_to_year(X_valid)\n",
    "X_valid = teamName_to_ranks(X_valid)\n",
    "X_valid_final = filling_missing_matchpredictions(X_valid)"
   ]
  },
  {
   "cell_type": "code",
   "execution_count": 40,
   "metadata": {},
   "outputs": [
    {
     "name": "stdout",
     "output_type": "stream",
     "text": [
      "Random Forest score - 0.49\n",
      "[[165  26  32]\n",
      " [ 65  17  29]\n",
      " [ 62  20  40]]\n",
      "              precision    recall  f1-score   support\n",
      "\n",
      "           A       0.40      0.33      0.36       122\n",
      "           D       0.27      0.15      0.20       111\n",
      "           H       0.57      0.74      0.64       223\n",
      "\n",
      "    accuracy                           0.49       456\n",
      "   macro avg       0.41      0.41      0.40       456\n",
      "weighted avg       0.45      0.49      0.46       456\n",
      "\n"
     ]
    }
   ],
   "source": [
    "# Using RandonForestClassifier to predict\n",
    "rf_clf = RandomForestClassifier(random_state=42)\n",
    "rf_clf.fit(X_train_final,y_train)\n",
    "print(f\"Random Forest score -\",format(rf_clf.score(X_valid_final,y_valid),\".2f\"))\n",
    "# Lets do some Evaluation:\n",
    "# With ROC, confusion matrix and classification report\n",
    "y_preds = rf_clf.predict(X_valid_final)\n",
    "print(confusion_matrix(y_valid, y_preds, labels=[\"H\", \"D\", \"A\"]))\n",
    "print(classification_report(y_valid,y_preds))"
   ]
  },
  {
   "cell_type": "code",
   "execution_count": 72,
   "metadata": {},
   "outputs": [
    {
     "name": "stdout",
     "output_type": "stream",
     "text": [
      "0.6226005073795587\n"
     ]
    }
   ],
   "source": [
    "# Using cross-validation to increase the score --roc_auc_ovr,roc_auc_ovr_weighted\n",
    "rf_clf2 = RandomForestClassifier(random_state=42)\n",
    "model=np.mean(cross_val_score(rf_clf2,  X_train_final, y_train, cv=3, scoring='roc_auc_ovr_weighted'))\n",
    "print(model)"
   ]
  },
  {
   "cell_type": "code",
   "execution_count": 83,
   "metadata": {},
   "outputs": [
    {
     "name": "stdout",
     "output_type": "stream",
     "text": [
      "Fitting 3 folds for each of 200 candidates, totalling 600 fits\n"
     ]
    },
    {
     "name": "stderr",
     "output_type": "stream",
     "text": [
      "[Parallel(n_jobs=-1)]: Using backend LokyBackend with 8 concurrent workers.\n",
      "[Parallel(n_jobs=-1)]: Done  25 tasks      | elapsed:    1.9s\n",
      "[Parallel(n_jobs=-1)]: Done 146 tasks      | elapsed:   10.1s\n",
      "[Parallel(n_jobs=-1)]: Done 349 tasks      | elapsed:   24.3s\n",
      "[Parallel(n_jobs=-1)]: Done 600 out of 600 | elapsed:   42.5s finished\n"
     ]
    },
    {
     "data": {
      "text/plain": [
       "{'n_estimators': 126,\n",
       " 'min_samples_split': 2,\n",
       " 'min_samples_leaf': 1,\n",
       " 'max_features': 'auto',\n",
       " 'max_depth': 5}"
      ]
     },
     "execution_count": 83,
     "metadata": {},
     "output_type": "execute_result"
    }
   ],
   "source": [
    "# Lets explore RandomForest more by tuning it..\n",
    "# RandomSearchCV param distribution\n",
    "n_estimators = np.arange(120,160)\n",
    "max_depth = [None, 5, 6, 7, 8, 9, 10]\n",
    "max_features = [\"auto\", \"log2\"]\n",
    "min_samples_split = [2,4,6]\n",
    "min_samples_leaf = [1,2,4]\n",
    "param_grid = {\"n_estimators\": n_estimators,\n",
    "              \"max_depth\": max_depth,\n",
    "              \"max_features\": max_features,\n",
    "              \"min_samples_split\": min_samples_split,\n",
    "              \"min_samples_leaf\": min_samples_leaf}\n",
    "rf_clf3 = RandomForestClassifier(random_state=42)\n",
    "rs_clf= RandomizedSearchCV(rf_clf3, param_distributions=param_grid,\n",
    "                           cv=3,\n",
    "                           n_iter=200,\n",
    "                           scoring='roc_auc_ovr_weighted', verbose=2, n_jobs=-1)\n",
    "rs_clf.fit(X_train_final, y_train)\n",
    "rs_clf.best_params_\n",
    "\n"
   ]
  },
  {
   "cell_type": "code",
   "execution_count": 84,
   "metadata": {},
   "outputs": [
    {
     "data": {
      "text/plain": [
       "0.6491205846786178"
      ]
     },
     "execution_count": 84,
     "metadata": {},
     "output_type": "execute_result"
    }
   ],
   "source": [
    "rs_clf.score(X_valid_final,y_valid)"
   ]
  },
  {
   "cell_type": "code",
   "execution_count": null,
   "metadata": {},
   "outputs": [],
   "source": [
    "# Random Search best params experimentation:  \n",
    "{'n_estimators': 128,\n",
    " 'min_samples_split': 2,\n",
    " 'min_samples_leaf': 1,\n",
    " 'max_features': 'log2',\n",
    " 'max_depth': 5\n",
    " 'Accuracy got': 0.6495975977058562}\n",
    "\n",
    "{'n_estimators': 157,\n",
    " 'min_samples_split': 2,\n",
    " 'min_samples_leaf': 4,\n",
    " 'max_features': 'log2',\n",
    " 'max_depth': 6,\n",
    " 'Accuracy got': 0.6487043533724595}\n"
   ]
  },
  {
   "cell_type": "code",
   "execution_count": 99,
   "metadata": {},
   "outputs": [
    {
     "name": "stdout",
     "output_type": "stream",
     "text": [
      "Fitting 3 folds for each of 280 candidates, totalling 840 fits\n"
     ]
    },
    {
     "name": "stderr",
     "output_type": "stream",
     "text": [
      "[Parallel(n_jobs=-1)]: Using backend LokyBackend with 8 concurrent workers.\n",
      "[Parallel(n_jobs=-1)]: Done  25 tasks      | elapsed:    4.4s\n",
      "[Parallel(n_jobs=-1)]: Done 146 tasks      | elapsed:   11.6s\n",
      "[Parallel(n_jobs=-1)]: Done 349 tasks      | elapsed:   24.8s\n",
      "[Parallel(n_jobs=-1)]: Done 632 tasks      | elapsed:   44.4s\n",
      "[Parallel(n_jobs=-1)]: Done 840 out of 840 | elapsed:   59.0s finished\n"
     ]
    },
    {
     "data": {
      "text/plain": [
       "GridSearchCV(cv=3, estimator=RandomForestClassifier(random_state=42), n_jobs=-1,\n",
       "             param_grid={'max_depth': [5, 6], 'max_features': ['auto', 'log2'],\n",
       "                         'min_samples_leaf': [1, 4], 'min_samples_split': [2],\n",
       "                         'n_estimators': array([125, 126, 127, 128, 129, 130, 131, 132, 133, 134, 135, 136, 137,\n",
       "       138, 139, 140, 141, 142, 143, 144, 145, 146, 147, 148, 149, 150,\n",
       "       151, 152, 153, 154, 155, 156, 157, 158, 159])},\n",
       "             scoring='roc_auc_ovr_weighted', verbose=2)"
      ]
     },
     "execution_count": 99,
     "metadata": {},
     "output_type": "execute_result"
    }
   ],
   "source": [
    "# Lets use GridSearchCV to get the best results..\n",
    "n_estimators = np.arange(125,160)\n",
    "max_depth = [5, 6]\n",
    "max_features = [\"auto\", \"log2\"]\n",
    "min_samples_split = [2]\n",
    "min_samples_leaf = [1,4]\n",
    "param_grid = {\"n_estimators\": n_estimators,\n",
    "              \"max_depth\": max_depth,\n",
    "              \"max_features\": max_features,\n",
    "              \"min_samples_split\": min_samples_split,\n",
    "              \"min_samples_leaf\": min_samples_leaf}\n",
    "gs_clf = GridSearchCV(rf_clf3,\n",
    "                      param_grid=param_grid,\n",
    "                      cv=3,\n",
    "                      scoring='roc_auc_ovr_weighted', verbose=2, n_jobs=-1)\n",
    "gs_clf.fit(X_train_final,y_train)"
   ]
  },
  {
   "cell_type": "code",
   "execution_count": 100,
   "metadata": {},
   "outputs": [
    {
     "data": {
      "text/plain": [
       "{'max_depth': 5,\n",
       " 'max_features': 'auto',\n",
       " 'min_samples_leaf': 1,\n",
       " 'min_samples_split': 2,\n",
       " 'n_estimators': 126}"
      ]
     },
     "execution_count": 100,
     "metadata": {},
     "output_type": "execute_result"
    }
   ],
   "source": [
    "gs_clf.best_params_"
   ]
  },
  {
   "cell_type": "code",
   "execution_count": 101,
   "metadata": {},
   "outputs": [
    {
     "data": {
      "text/plain": [
       "0.6491205846786178"
      ]
     },
     "execution_count": 101,
     "metadata": {},
     "output_type": "execute_result"
    }
   ],
   "source": [
    "gs_clf.score(X_valid_final,y_valid)"
   ]
  },
  {
   "cell_type": "code",
   "execution_count": 102,
   "metadata": {},
   "outputs": [
    {
     "data": {
      "text/plain": [
       "0.4868421052631579"
      ]
     },
     "execution_count": 102,
     "metadata": {},
     "output_type": "execute_result"
    }
   ],
   "source": [
    "grid={'n_estimators': [126],\n",
    " 'min_samples_split': [2],\n",
    " 'min_samples_leaf': [1],\n",
    " 'max_features': ['auto'],\n",
    " 'max_depth': [5]}\n",
    "clf1 = RandomForestClassifier(random_state=42)\n",
    "clf = GridSearchCV(clf1, param_grid=grid,cv=3,\n",
    "                    scoring='roc_auc_ovr_weighted', verbose=2, n_jobs=-1)\n",
    "clf1.fit(X_train_final,y_train)\n",
    "clf1.score(X_valid_final,y_valid)"
   ]
  },
  {
   "cell_type": "markdown",
   "metadata": {},
   "source": [
    "## Experimenting with other models"
   ]
  },
  {
   "cell_type": "code",
   "execution_count": null,
   "metadata": {},
   "outputs": [],
   "source": []
  },
  {
   "cell_type": "code",
   "execution_count": null,
   "metadata": {},
   "outputs": [],
   "source": []
  },
  {
   "cell_type": "markdown",
   "metadata": {},
   "source": [
    "## Testing model on Test data"
   ]
  },
  {
   "cell_type": "code",
   "execution_count": 161,
   "metadata": {},
   "outputs": [
    {
     "data": {
      "text/plain": [
       "(610, 22)"
      ]
     },
     "execution_count": 161,
     "metadata": {},
     "output_type": "execute_result"
    }
   ],
   "source": [
    "# import the test data\n",
    "test_df = pd.read_csv(\"data/test.csv\")\n",
    "test_df.shape"
   ]
  },
  {
   "cell_type": "code",
   "execution_count": 162,
   "metadata": {},
   "outputs": [
    {
     "data": {
      "text/plain": [
       "(610, 22)"
      ]
     },
     "execution_count": 162,
     "metadata": {},
     "output_type": "execute_result"
    }
   ],
   "source": [
    "# Preprocessing Test data\n",
    "test_df = convert_date_to_year(test_df)\n",
    "test_df = teamName_to_ranks(test_df)\n",
    "test_df_final = filling_missing_matchpredictions(test_df)\n",
    "test_df_final.shape"
   ]
  },
  {
   "cell_type": "code",
   "execution_count": 164,
   "metadata": {},
   "outputs": [],
   "source": [
    "predictions = gs_clf.predict(test_df_final)\n",
    "output = pd.DataFrame({'ID': test_df_final.ID, 'FTR': predictions})\n",
    "output.to_csv('data/football_prediction_submission1.csv', index=False)"
   ]
  },
  {
   "cell_type": "code",
   "execution_count": null,
   "metadata": {},
   "outputs": [],
   "source": []
  },
  {
   "cell_type": "code",
   "execution_count": null,
   "metadata": {},
   "outputs": [],
   "source": []
  },
  {
   "cell_type": "markdown",
   "metadata": {},
   "source": [
    "## Section : Saving the models\n",
    "List of models:\n",
    "\n",
    "   1. GridSearch Model - gs_clf"
   ]
  },
  {
   "cell_type": "code",
   "execution_count": 104,
   "metadata": {},
   "outputs": [],
   "source": [
    "import pickle\n",
    "#pickle.dump(gs_clf, open(\"model/gs_model1.pkl\",\"wb\"))"
   ]
  }
 ],
 "metadata": {
  "kernelspec": {
   "display_name": "Python 3",
   "language": "python",
   "name": "python3"
  },
  "language_info": {
   "codemirror_mode": {
    "name": "ipython",
    "version": 3
   },
   "file_extension": ".py",
   "mimetype": "text/x-python",
   "name": "python",
   "nbconvert_exporter": "python",
   "pygments_lexer": "ipython3",
   "version": "3.8.5"
  }
 },
 "nbformat": 4,
 "nbformat_minor": 4
}
